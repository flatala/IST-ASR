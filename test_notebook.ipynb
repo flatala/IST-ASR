{
 "cells": [
  {
   "cell_type": "code",
   "execution_count": 1,
   "id": "4b182085-5cd2-498e-9596-d4b2be79b54d",
   "metadata": {},
   "outputs": [],
   "source": [
    "import os\n",
    "\n",
    "def filter_folders(base_path):\n",
    "    control_folders = []\n",
    "    dysarthric_folders = []\n",
    "    for item in os.listdir(base_path):\n",
    "        folder_path = os.path.join(base_path, item)\n",
    "        if os.path.isdir(folder_path):\n",
    "            if 'C' in item:\n",
    "                control_folders.append(folder_path)\n",
    "            else:\n",
    "                dysarthric_folders.append(folder_path)\n",
    "    return control_folders, dysarthric_folders"
   ]
  },
  {
   "cell_type": "code",
   "execution_count": 2,
   "id": "9c9b1877-d80c-4d84-8c24-de98d83208fb",
   "metadata": {},
   "outputs": [
    {
     "name": "stdout",
     "output_type": "stream",
     "text": [
      "Control folders: ['TORGO/MC01', 'TORGO/FC01', 'TORGO/FC03', 'TORGO/MC03', 'TORGO/MC04', 'TORGO/MC02', 'TORGO/FC02']\n",
      "Dysarthric folders: ['TORGO/M02', 'TORGO/M01', 'TORGO/M04', 'TORGO/F04', 'TORGO/M03', 'TORGO/F01', 'TORGO/M05', 'TORGO/F03']\n"
     ]
    }
   ],
   "source": [
    "base_directory = 'TORGO'\n",
    "control, dysarthric = filter_folders(base_directory)\n",
    "\n",
    "print(\"Control folders:\", control)\n",
    "print(\"Dysarthric folders:\", dysarthric)\n"
   ]
  },
  {
   "cell_type": "code",
   "execution_count": 3,
   "id": "229d7aef-07ec-4d71-a1d2-2cff7b7bb333",
   "metadata": {},
   "outputs": [],
   "source": [
    "def extract_sessions(base_path):\n",
    "    session_folders = []\n",
    "    for item in os.listdir(base_path):\n",
    "        folder_path = os.path.join(base_path, item)\n",
    "        if os.path.isdir(folder_path) and 'Session' in folder_path:\n",
    "            session_folders.append(folder_path)\n",
    "            \n",
    "    return session_folders"
   ]
  },
  {
   "cell_type": "code",
   "execution_count": 4,
   "id": "fefc6c32-0422-4f15-bf28-38ef754d808b",
   "metadata": {},
   "outputs": [
    {
     "name": "stdout",
     "output_type": "stream",
     "text": [
      "Control Sessions:\n",
      "Session folders: ['TORGO/MC01/Session2', 'TORGO/MC01/Session1', 'TORGO/MC01/Session3']\n",
      "Session folders: ['TORGO/FC01/Session1']\n",
      "Session folders: ['TORGO/FC03/Session3', 'TORGO/FC03/Session1', 'TORGO/FC03/Session2']\n",
      "Session folders: ['TORGO/MC03/Session2', 'TORGO/MC03/Session1']\n",
      "Session folders: ['TORGO/MC04/Session2', 'TORGO/MC04/Session1']\n",
      "Session folders: ['TORGO/MC02/Session1', 'TORGO/MC02/Session2']\n",
      "Session folders: ['TORGO/FC02/Session2', 'TORGO/FC02/Session3']\n",
      "\n",
      "Dysarthric Sessions:\n",
      "Session folders: ['TORGO/M02/Session1', 'TORGO/M02/Session2']\n",
      "Session folders: ['TORGO/M01/Session1', 'TORGO/M01/Session2_3']\n",
      "Session folders: ['TORGO/M04/Session1', 'TORGO/M04/Session2']\n",
      "Session folders: ['TORGO/F04/Session2', 'TORGO/F04/Session1']\n",
      "Session folders: ['TORGO/M03/Session2']\n",
      "Session folders: ['TORGO/F01/Session1']\n",
      "Session folders: ['TORGO/M05/Session2', 'TORGO/M05/Session1']\n",
      "Session folders: ['TORGO/F03/Session1', 'TORGO/F03/Session3', 'TORGO/F03/Session2']\n"
     ]
    }
   ],
   "source": [
    "control_session_folders = []\n",
    "dysarthric_session_folders = []\n",
    "\n",
    "print(\"Control Sessions:\")\n",
    "for control_folder in control:\n",
    "    session_folders = extract_sessions(control_folder)\n",
    "    control_session_folders.append(session_folders)\n",
    "    print(\"Session folders:\", session_folders)\n",
    "\n",
    "print()\n",
    "\n",
    "print(\"Dysarthric Sessions:\")\n",
    "for dysarthric_folder in dysarthric:\n",
    "    session_folders = extract_sessions(dysarthric_folder)\n",
    "    dysarthric_session_folders.append(session_folders)\n",
    "    print(\"Session folders:\", session_folders)"
   ]
  },
  {
   "cell_type": "code",
   "execution_count": 5,
   "id": "2a8d9290-3aa8-407b-9941-1960ca56030e",
   "metadata": {},
   "outputs": [],
   "source": [
    "import os\n",
    "from pathlib import Path\n",
    "import wave\n",
    "\n",
    "def process_session_folder(folder_path):\n",
    "    prompts_dir_path = os.path.join(folder_path, 'prompts')\n",
    "    array_mic_dir_path = os.path.join(folder_path, 'wav_arrayMic')\n",
    "    head_mic_dir_path = os.path.join(folder_path, 'wav_headMic')\n",
    "\n",
    "    # read prompts\n",
    "    path = Path(prompts_dir_path)\n",
    "    prompts = [file.read_text(encoding='utf-8') for file in sorted(path.glob('*.txt'))]\n",
    "\n",
    "    # get array mic file paths\n",
    "    array_mic_audio_files = []\n",
    "    array_mic_durations = []\n",
    "    if os.path.isdir(array_mic_dir_path):\n",
    "        for item in sorted(os.listdir(array_mic_dir_path)):\n",
    "            audio_file_path = os.path.join(array_mic_dir_path, item)\n",
    "            array_mic_audio_files.append(audio_file_path)\n",
    "            with wave.open(audio_file_path, 'rb') as wav_file:\n",
    "                frames = wav_file.getnframes()\n",
    "                framerate = wav_file.getframerate()\n",
    "                duration = frames / float(framerate)\n",
    "                array_mic_durations.append(duration)\n",
    "                \n",
    "    # get head mic file paths \n",
    "    head_mic_audio_files = []\n",
    "    head_mic_durations = []\n",
    "    if os.path.isdir(head_mic_dir_path):\n",
    "        for item in sorted(os.listdir(head_mic_dir_path)):\n",
    "            audio_file_path = os.path.join(head_mic_dir_path, item)\n",
    "            head_mic_audio_files.append(audio_file_path)\n",
    "            with wave.open(audio_file_path, 'rb') as wav_file:\n",
    "                frames = wav_file.getnframes()\n",
    "                framerate = wav_file.getframerate()\n",
    "                duration = frames / float(framerate)\n",
    "                head_mic_durations.append(duration)\n",
    "\n",
    "    return prompts, array_mic_audio_files, array_mic_durations, head_mic_audio_files, head_mic_durations\n",
    "    "
   ]
  },
  {
   "cell_type": "code",
   "execution_count": 6,
   "id": "e8e1dad1-cde2-45f0-9330-41250c731a68",
   "metadata": {},
   "outputs": [
    {
     "name": "stdout",
     "output_type": "stream",
     "text": [
      "TORGO/M02/Session1\n",
      "\n",
      "Prompts (240):\n",
      "[\"[say 'Pah-Tah-Kah' repeatedly]\", '[relax your mouth in its normal position]', \"[say 'Ah-P-Eee' repeatedly]\", \"[say 'Eee-P-Ah' repeatedly]\", \"[say 'OA' as in cOAt in a very low pitch]\"]\n",
      "\n",
      "Array mic audio files (240):\n",
      "['TORGO/M02/Session1/wav_arrayMic/0001.wav', 'TORGO/M02/Session1/wav_arrayMic/0002.wav', 'TORGO/M02/Session1/wav_arrayMic/0003.wav', 'TORGO/M02/Session1/wav_arrayMic/0004.wav', 'TORGO/M02/Session1/wav_arrayMic/0005.wav']\n",
      "[17.25, 4.2, 8.7, 7.65, 2.4]\n",
      "\n",
      "Headmic audio files (240):\n",
      "['TORGO/M02/Session1/wav_headMic/0001.wav', 'TORGO/M02/Session1/wav_headMic/0002.wav', 'TORGO/M02/Session1/wav_headMic/0003.wav', 'TORGO/M02/Session1/wav_headMic/0004.wav', 'TORGO/M02/Session1/wav_headMic/0005.wav']\n",
      "[17.4249375, 6.5324375, 11.15825, 6.9386875, 4.43825]\n"
     ]
    }
   ],
   "source": [
    "print(dysarthric_session_folders[0][0])\n",
    "prompts, array_mic_audio_files, array_mic_durations, head_mic_audio_files, head_mic_durations = process_session_folder(dysarthric_session_folders[0][0])\n",
    "print(f'\\nPrompts ({len(prompts)}):')\n",
    "print(prompts[:5])\n",
    "print(f'\\nArray mic audio files ({len(array_mic_audio_files)}):')\n",
    "print(array_mic_audio_files[:5])\n",
    "print(array_mic_durations[:5])\n",
    "print(f'\\nHeadmic audio files ({len(head_mic_audio_files)}):')\n",
    "print(head_mic_audio_files[:5])\n",
    "print(head_mic_durations[:5])"
   ]
  },
  {
   "cell_type": "code",
   "execution_count": 7,
   "id": "0a404d11-2321-48ab-be36-d7b6beb585ee",
   "metadata": {},
   "outputs": [
    {
     "ename": "ModuleNotFoundError",
     "evalue": "No module named 'pandas'",
     "output_type": "error",
     "traceback": [
      "\u001b[0;31m---------------------------------------------------------------------------\u001b[0m",
      "\u001b[0;31mModuleNotFoundError\u001b[0m                       Traceback (most recent call last)",
      "Cell \u001b[0;32mIn[7], line 1\u001b[0m\n\u001b[0;32m----> 1\u001b[0m \u001b[38;5;28;01mimport\u001b[39;00m \u001b[38;5;21;01mpandas\u001b[39;00m \u001b[38;5;28;01mas\u001b[39;00m \u001b[38;5;21;01mpd\u001b[39;00m\n\u001b[1;32m      3\u001b[0m \u001b[38;5;28;01mdef\u001b[39;00m \u001b[38;5;21mprepare_datasets\u001b[39m(base_dir):\n\u001b[1;32m      4\u001b[0m     control, dysarthric \u001b[38;5;241m=\u001b[39m filter_folders(base_directory)\n",
      "\u001b[0;31mModuleNotFoundError\u001b[0m: No module named 'pandas'"
     ]
    }
   ],
   "source": [
    "import pandas as pd\n",
    "\n",
    "def prepare_datasets(base_dir):\n",
    "    control, dysarthric = filter_folders(base_directory)\n",
    "    dataset_control = prepare_dataset(control)\n",
    "    dataset_dysarthric = prepare_dataset(dysarthric)\n",
    "\n",
    "def prepare_dataset(speaker_folders):\n",
    "    dataset = pd.DataFrame(columns=['speaker', 'session', 'prompt', 'path', 'mic', 'length'])\n",
    "    # process speakers\n",
    "    for speaker_folder in sorted(speaker_folders):\n",
    "        # process speaker sessions\n",
    "        speaker_sessions = extract_sessions(speaker_folder)\n",
    "        for session in sorted(speaker_sessions):\n",
    "            \n",
    "            # process session\n",
    "            prompts, array_mic, array_mic_durations, head_mic, head_mic_durations = process_session_folder(session)\n",
    "            prompts_array_mic = prompts[:len(array_mic)]\n",
    "            prompts_head_mic = prompts[:len(head_mic)]\n",
    "            \n",
    "            # prepare dataframe\n",
    "            df_array_mic = pd.DataFrame({'speaker': speaker_folder.split('/', 1)[-1], 'session': session[-1], \n",
    "                                         'prompt': prompts_array_mic, 'path': array_mic, 'mic': 'array_mic', 'length': array_mic_durations})\n",
    "            df_head_mic = pd.DataFrame({'speaker': speaker_folder.split('/', 1)[-1], 'session': session[-1],\n",
    "                                        'prompt': prompts_head_mic, 'path': head_mic, 'mic': 'head_mic', 'length': head_mic_durations})\n",
    "            df_session = pd.concat([df_array_mic, df_head_mic])\n",
    "\n",
    "            # update dataset\n",
    "            dataset = pd.concat(dataset, df_session)\n",
    "            \n",
    "    return dataset\n",
    "            \n",
    "    "
   ]
  },
  {
   "cell_type": "code",
   "execution_count": null,
   "id": "e206973b-3916-4ae7-9b21-8a52496fcefa",
   "metadata": {},
   "outputs": [],
   "source": [
    "import pickle\n",
    "\n",
    "# Example object to pickle\n",
    "data = {\"name\": \"Alice\", \"age\": 30, \"is_student\": False}\n",
    "\n",
    "# Pickle the object and save it to a file\n",
    "with open(\"data.pkl\", \"wb\") as file:\n",
    "    pickle.dump(data, file)\n",
    "\n",
    "# Unpickle the object from the file\n",
    "with open(\"data.pkl\", \"rb\") as file:\n",
    "    loaded_data = pickle.load(file)\n",
    "\n",
    "print(loaded_data)"
   ]
  }
 ],
 "metadata": {
  "kernelspec": {
   "display_name": "Python (speech_technology)",
   "language": "python",
   "name": "speech_technology"
  },
  "language_info": {
   "codemirror_mode": {
    "name": "ipython",
    "version": 3
   },
   "file_extension": ".py",
   "mimetype": "text/x-python",
   "name": "python",
   "nbconvert_exporter": "python",
   "pygments_lexer": "ipython3",
   "version": "3.13.2"
  }
 },
 "nbformat": 4,
 "nbformat_minor": 5
}
